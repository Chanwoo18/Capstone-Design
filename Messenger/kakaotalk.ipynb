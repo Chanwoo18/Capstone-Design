{
 "cells": [
  {
   "cell_type": "code",
   "execution_count": 25,
   "id": "01f8ddd0",
   "metadata": {},
   "outputs": [],
   "source": [
    "import json\n",
    "import requests\n",
    "\n",
    "# def getFriendsList():\n",
    "#     header = {\"Authorization\": 'Bearer ' + \"Ruw_yrYGi7oI32LlXerw5IAQEOUAIg7W0U_xRXCqCilvuQAAAYSirFyR\"}\n",
    "#     url = \"https://kapi.kakao.com/v1/api/talk/friends\" #친구 정보 요청\n",
    "\n",
    "#     result = json.loads(requests.get(url, headers=header).text)\n",
    "\n",
    "#     friends_list = result.get(\"elements\")\n",
    "#     friends_id = []\n",
    "\n",
    "#     print(requests.get(url, headers=header).text)\n",
    "#     print(friends_list)\n",
    "\n",
    "#     for friend in friends_list:\n",
    "#         friends_id.append(str(friend.get(\"uuid\")))\n",
    "\n",
    "#         print(friends_id)\n",
    "\n",
    "# 카카오톡 보내는 함수\n",
    "def sendToMeMessage(token, uuid:list):\n",
    "    header = {\"Authorization\": 'Bearer ' + token}\n",
    "    url = \"https://kapi.kakao.com/v1/api/talk/friends/message/default/send\" #api 주소\n",
    "#     uuid = [\"VmdRYlZgVm9Wekt_TnpIfk5_TGBRYVJrXjk\"]\n",
    "    uuidsData = {\"receiver_uuids\" : json.dumps(uuid)}    \n",
    "    \n",
    "    post = {\n",
    "        \"object_type\": \"text\",\n",
    "        \"text\" : \"찬우\",\n",
    "        \"link\" : {\n",
    "#             \"web_url\" : \"http://naver.com\",\n",
    "#             \"mobile_web_url\" : \"http://naver.com\"\n",
    "        },\n",
    "#         \"button_title\":\"button title\"\n",
    "    }\n",
    "    data = {\"template_object\": json.dumps(post)}\n",
    "    uuidsData.update(data)\n",
    "\n",
    "    return requests.post(url, headers=header, data=uuidsData).status_code"
   ]
  },
  {
   "cell_type": "code",
   "execution_count": 26,
   "id": "cc3abc89",
   "metadata": {},
   "outputs": [
    {
     "data": {
      "text/plain": [
       "401"
      ]
     },
     "execution_count": 26,
     "metadata": {},
     "output_type": "execute_result"
    }
   ],
   "source": [
    "sendToMeMessage(\"lRmkhs9V85SqJ1dc00D0r27uey7mx1UgFB8AvcScCj10lwAAAYSiy5g3\",[\"VmRUZl9uWmxeckBzR3RCdEJ6Qm5fb1xlUDI\"])"
   ]
  },
  {
   "cell_type": "code",
   "execution_count": 24,
   "id": "f3fb0cdd",
   "metadata": {},
   "outputs": [
    {
     "name": "stdout",
     "output_type": "stream",
     "text": [
      "<Response [401]>\n"
     ]
    }
   ],
   "source": [
    "import requests\n",
    "import json\n",
    "from datetime import datetime\n",
    "\n",
    "token=\"YyP5lLg_hLpT08kODbrE26Oqhxv8H0i1Wpia9HblCilv1AAAAYSi7i9A\"\n",
    "url = \"https://kapi.kakao.com/v2/api/talk/memo/default/send\"\n",
    "header = {\n",
    "    \"Content-Type\": \"application/x-www-form-urlencoded\", \n",
    "    \"Authorization\": 'Bearer ' + token}\n",
    "\n",
    "post = {\n",
    "        \"object_type\": \"text\",\n",
    "        \"text\": \"텍스트 영역\"+ str(datetime.now()),\n",
    "        \"link\": {\n",
    "            \"web_url\": \"https://developers.kakao.com\",\n",
    "            \"mobile_web_url\": \"https://developers.kakao.com\"\n",
    "        },\n",
    "        \"button_title\": \"바로 확인\"      \n",
    "    }\n",
    "data = {\"template_object\": json.dumps(post)}\n",
    "returnValue=requests.post(url, headers=header, data=data)\n",
    "print(returnValue)\n"
   ]
  },
  {
   "cell_type": "code",
   "execution_count": 18,
   "id": "4c3a7746",
   "metadata": {},
   "outputs": [
    {
     "ename": "TypeError",
     "evalue": "dump() missing 1 required positional argument: 'fp'",
     "output_type": "error",
     "traceback": [
      "\u001b[1;31m---------------------------------------------------------------------------\u001b[0m",
      "\u001b[1;31mTypeError\u001b[0m                                 Traceback (most recent call last)",
      "\u001b[1;32m~\\AppData\\Local\\Temp/ipykernel_3124/2923788405.py\u001b[0m in \u001b[0;36m<module>\u001b[1;34m\u001b[0m\n\u001b[1;32m----> 1\u001b[1;33m \u001b[0msendToMessage\u001b[0m\u001b[1;33m(\u001b[0m\u001b[1;34m\"lRmkhs9V85SqJ1dc00D0r27uey7mx1UgFB8AvcScCj10lwAAAYSiy5g3\"\u001b[0m\u001b[1;33m,\u001b[0m\u001b[1;33m[\u001b[0m\u001b[1;34m\"VmRUZl9uWmxeckBzR3RCdEJ6Qm5fb1xlUDI\"\u001b[0m\u001b[1;33m]\u001b[0m\u001b[1;33m)\u001b[0m\u001b[1;33m\u001b[0m\u001b[1;33m\u001b[0m\u001b[0m\n\u001b[0m",
      "\u001b[1;32m~\\AppData\\Local\\Temp/ipykernel_3124/1500393181.py\u001b[0m in \u001b[0;36msendToMessage\u001b[1;34m(token, uuid)\u001b[0m\n\u001b[0;32m      5\u001b[0m     \u001b[0mheader\u001b[0m \u001b[1;33m=\u001b[0m \u001b[1;33m{\u001b[0m\u001b[1;34m\"Authorization\"\u001b[0m\u001b[1;33m:\u001b[0m \u001b[1;34m'Bearer'\u001b[0m \u001b[1;33m+\u001b[0m \u001b[0mtoken\u001b[0m\u001b[1;33m}\u001b[0m\u001b[1;33m\u001b[0m\u001b[1;33m\u001b[0m\u001b[0m\n\u001b[0;32m      6\u001b[0m     \u001b[0murl\u001b[0m \u001b[1;33m=\u001b[0m \u001b[1;34m\"https://kapi.kakao.com/v1/api/talk/friends/message/default/send\"\u001b[0m\u001b[1;33m\u001b[0m\u001b[1;33m\u001b[0m\u001b[0m\n\u001b[1;32m----> 7\u001b[1;33m     \u001b[0muuidsData\u001b[0m \u001b[1;33m=\u001b[0m \u001b[1;33m{\u001b[0m\u001b[1;34m\"receiver_uuids\"\u001b[0m \u001b[1;33m:\u001b[0m \u001b[0mjson\u001b[0m\u001b[1;33m.\u001b[0m\u001b[0mdump\u001b[0m\u001b[1;33m(\u001b[0m\u001b[0muuid\u001b[0m\u001b[1;33m)\u001b[0m\u001b[1;33m}\u001b[0m\u001b[1;33m\u001b[0m\u001b[1;33m\u001b[0m\u001b[0m\n\u001b[0m\u001b[0;32m      8\u001b[0m \u001b[1;33m\u001b[0m\u001b[0m\n\u001b[0;32m      9\u001b[0m     post = {\n",
      "\u001b[1;31mTypeError\u001b[0m: dump() missing 1 required positional argument: 'fp'"
     ]
    }
   ],
   "source": [
    "sendToMessage(\"lRmkhs9V85SqJ1dc00D0r27uey7mx1UgFB8AvcScCj10lwAAAYSiy5g3\",[\"VmRUZl9uWmxeckBzR3RCdEJ6Qm5fb1xlUDI\"])"
   ]
  },
  {
   "cell_type": "code",
   "execution_count": null,
   "id": "d0070e21",
   "metadata": {},
   "outputs": [],
   "source": []
  }
 ],
 "metadata": {
  "kernelspec": {
   "display_name": "Python 3 (ipykernel)",
   "language": "python",
   "name": "python3"
  },
  "language_info": {
   "codemirror_mode": {
    "name": "ipython",
    "version": 3
   },
   "file_extension": ".py",
   "mimetype": "text/x-python",
   "name": "python",
   "nbconvert_exporter": "python",
   "pygments_lexer": "ipython3",
   "version": "3.9.7"
  }
 },
 "nbformat": 4,
 "nbformat_minor": 5
}
