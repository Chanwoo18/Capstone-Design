{
 "cells": [
  {
   "cell_type": "code",
   "execution_count": 25,
   "id": "01f8ddd0",
   "metadata": {},
   "outputs": [],
   "source": [
    "import json\n",
    "import requests\n",
    "\n",
    "def getFriendsList():\n",
    "    header = {\"Authorization\": 'Bearer ' + \"Ruw_yrYGi7oI32LlXerw5IAQEOUAIg7W0U_xRXCqCilvuQAAAYSirFyR\"}\n",
    "    url = \"https://kapi.kakao.com/v1/api/talk/friends\" #친구 정보 요청\n",
    "\n",
    "    result = json.loads(requests.get(url, headers=header).text)\n",
    "\n",
    "    friends_list = result.get(\"elements\")\n",
    "    friends_id = []\n",
    "\n",
    "    print(requests.get(url, headers=header).text)\n",
    "    print(friends_list)\n",
    "\n",
    "    for friend in friends_list:\n",
    "        friends_id.append(str(friend.get(\"uuid\")))\n",
    "\n",
    "        print(friends_id)\n",
    "\n",
    "\"\"\"\n",
    "카카오톡 보내는 함수\n",
    "매개변수 : 토큰, 메시지\n",
    "출력 200나오면 전송 성공, 400 나오면 오류, 401 나오면 권한없음\n",
    "\"\"\"\n",
    "def sendToMeMessage(token,text):\n",
    "    header = {\"Authorization\": \"Bearer \" + token}\n",
    "    url = \"https://kapi.kakao.com/v1/api/talk/friends/message/default/send\" #api 주소\n",
    "    uuid = getuuidList(token)\n",
    "    uuidsData = {\"receiver_uuids\" : json.dumps(uuid)}    \n",
    "    \n",
    "    post = {\n",
    "        \"object_type\": \"text\",\n",
    "        \"text\" : text,\n",
    "        \"link\" : {\n",
    "#             \"web_url\" : \"http://naver.com\",\n",
    "#             \"mobile_web_url\" : \"http://naver.com\"\n",
    "        },\n",
    "#         \"button_title\":\"button title\"\n",
    "    }\n",
    "    data = {\"template_object\": json.dumps(post)}\n",
    "    uuidsData.update(data)\n",
    "\n",
    "    return requests.post(url, headers=header, data=uuidsData).status_code"
   ]
  },
  {
   "cell_type": "code",
   "execution_count": 26,
   "id": "cc3abc89",
   "metadata": {},
   "outputs": [
    {
     "data": {
      "text/plain": [
       "401"
      ]
     },
     "execution_count": 26,
     "metadata": {},
     "output_type": "execute_result"
    }
   ],
   "source": [
    "sendToMeMessage(\"lRmkhs9V85SqJ1dc00D0r27uey7mx1UgFB8AvcScCj10lwAAAYSiy5g3\",[\"VmRUZl9uWmxeckBzR3RCdEJ6Qm5fb1xlUDI\"])"
   ]
  }
 ],
 "metadata": {
  "kernelspec": {
   "display_name": "Python 3 (ipykernel)",
   "language": "python",
   "name": "python3"
  },
  "language_info": {
   "codemirror_mode": {
    "name": "ipython",
    "version": 3
   },
   "file_extension": ".py",
   "mimetype": "text/x-python",
   "name": "python",
   "nbconvert_exporter": "python",
   "pygments_lexer": "ipython3",
   "version": "3.9.7"
  }
 },
 "nbformat": 4,
 "nbformat_minor": 5
}
